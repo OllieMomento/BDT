{
 "cells": [
  {
   "cell_type": "markdown",
   "metadata": {},
   "source": [
    "copy data from HDFS folder `/user/pascepet/teplota-usa` to your HDFS-home folder `/user/username`"
   ]
  },
  {
   "cell_type": "markdown",
   "metadata": {},
   "source": [
    "start HIVE CLI using command\n",
    "\n",
    "`beeline -u \"jdbc:hive2://hador-c1.ics.muni.cz:10000/default;principal=hive/hador-c1.ics.muni.cz@ICS.MUNI.CZ\"`"
   ]
  },
  {
   "cell_type": "markdown",
   "metadata": {},
   "source": [
    "1 Create external table\n",
    "\n",
    "- Create your database (if not exists)\n",
    "- Make your database your working database\n",
    "- Create external table name temperature_tmp\n",
    "\n",
    "| Column name | Data type |\n",
    "|:------------|:----------|\n",
    "| stanice     | string    |\n",
    "| mesic       | int       |\n",
    "| den         | int       |\n",
    "| hodina      | int       |\n",
    "| teplota     | double    |\n",
    "| flag        | string    |\n",
    "| latitude    | double    |\n",
    "| longitude   | double    |\n",
    "| vyska       | double    |\n",
    "| stat        | string    |\n",
    "| nazev       | string    |"
   ]
  },
  {
   "cell_type": "markdown",
   "metadata": {},
   "source": [
    "2 Create internal table\n",
    "\n",
    "- Create internal table named temperature stored as parquet\n",
    "- Insert data into internal table. Convert temperature data from 10xFahrenheit to celsius using formula $ (\\frac{F}{10} - 32) \\times \\frac{5}{9} $\n",
    "- Drop external table\n",
    "- Check that data files are still on HDFS"
   ]
  },
  {
   "cell_type": "markdown",
   "metadata": {},
   "source": [
    "3 Create internal partitioned table\n",
    "\n",
    "- Create table partitioned by month use snappy compression\n",
    "- Insert data into partitioned table\n",
    "- Inspect partitioned folder on HDFS\n",
    "\n",
    "To enable dynamic partitioning execute this commands\n",
    "\n",
    "```\n",
    "set hive.exec.dynamic.partition=true;\n",
    "set hive.exec.dynamic.partition.mode=nonstrict;\n",
    "```\n"
   ]
  },
  {
   "cell_type": "markdown",
   "metadata": {},
   "source": [
    "4 Modify creation script into generic load procedure\n",
    "\n",
    "Use hive vars ?"
   ]
  },
  {
   "cell_type": "markdown",
   "metadata": {},
   "source": [
    "5 SQL\n",
    "\n",
    "I. Find state with highest temp in summer\n",
    "\n",
    "\n",
    "| State | AVG_TEMP |\n",
    "|:------|:---------|\n",
    "|       |          |\n",
    "\n",
    "II. Compare query time for normal and broadcast query with Hash join ?\n",
    "\n",
    "III. Find states with highest average temperature per month\n",
    "\n",
    "| Month | State | AVG_TEMP |\n",
    "|:------|:------|:---------|\n",
    "|       |       |          |\n",
    "\n"
   ]
  }
 ],
 "metadata": {
  "kernelspec": {
   "display_name": "Python 2",
   "language": "python",
   "name": "python2"
  },
  "language_info": {
   "codemirror_mode": {
    "name": "ipython",
    "version": 2
   },
   "file_extension": ".py",
   "mimetype": "text/x-python",
   "name": "python",
   "nbconvert_exporter": "python",
   "pygments_lexer": "ipython2",
   "version": "2.7.13"
  }
 },
 "nbformat": 4,
 "nbformat_minor": 2
}
